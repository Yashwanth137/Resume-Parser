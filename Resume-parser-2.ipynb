{
 "cells": [
  {
   "cell_type": "code",
   "execution_count": 2,
   "id": "dcb6f8a7",
   "metadata": {},
   "outputs": [],
   "source": [
    "import nltk\n",
    "import numpy as np\n",
    "from nltk.corpus import stopwords\n",
    "from nltk.tokenize import word_tokenize, sent_tokenize\n",
    "from nltk.probability import FreqDist\n",
    "from sklearn.feature_extraction.text import TfidfVectorizer\n",
    "from sklearn.svm import SVC\n",
    "from sklearn.pipeline import Pipeline\n",
    "from sklearn.model_selection import train_test_split"
   ]
  },
  {
   "cell_type": "code",
   "execution_count": 3,
   "id": "d717ce5c",
   "metadata": {},
   "outputs": [
    {
     "name": "stdout",
     "output_type": "stream",
     "text": [
      "Model Accuracy: 0.0\n",
      "Predicted Labels: ['IT' 'Project Management']\n"
     ]
    },
    {
     "name": "stderr",
     "output_type": "stream",
     "text": [
      "[nltk_data] Downloading package punkt to\n",
      "[nltk_data]     C:\\Users\\HP\\AppData\\Roaming\\nltk_data...\n",
      "[nltk_data]   Package punkt is already up-to-date!\n",
      "[nltk_data] Downloading package stopwords to\n",
      "[nltk_data]     C:\\Users\\HP\\AppData\\Roaming\\nltk_data...\n",
      "[nltk_data]   Package stopwords is already up-to-date!\n"
     ]
    }
   ],
   "source": [
    "nltk.download('punkt')\n",
    "nltk.download('stopwords')\n",
    "\n",
    "def preprocess_text(text):\n",
    "    # Tokenize the text into sentences\n",
    "    sentences = sent_tokenize(text)\n",
    "    \n",
    "    # Tokenize each sentence into words and remove stopwords\n",
    "    stop_words = set(stopwords.words('english'))\n",
    "    tokenized_sentences = []\n",
    "    for sentence in sentences:\n",
    "        words = word_tokenize(sentence)\n",
    "        words = [word.lower() for word in words if word.lower() not in stop_words]\n",
    "        tokenized_sentences.append(words)\n",
    "    \n",
    "    return tokenized_sentences\n",
    "\n",
    "def extract_skills(tokenized_sentences, skills):\n",
    "    matched_skills = []\n",
    "    \n",
    "    for sentence in tokenized_sentences:\n",
    "        for skill in skills:\n",
    "            if skill.lower() in sentence:\n",
    "                matched_skills.append(skill)\n",
    "    \n",
    "    return matched_skills\n",
    "\n",
    "# Sample resumes and their corresponding labels\n",
    "resumes = [\n",
    "    (\"John Doe is an experienced software engineer proficient in Python and machine learning.\", \"IT\"),\n",
    "    (\"Sarah Smith has a background in marketing and data analysis.\", \"Marketing\"),\n",
    "    (\"Tom Johnson is a skilled project manager with experience in agile methodologies.\", \"Project Management\"),\n",
    "    (\"Lisa Brown is a qualified nurse with expertise in patient care and medical documentation.\", \"Healthcare\"),\n",
    "]\n",
    "\n",
    "# Required skills for each job category\n",
    "required_skills = {\n",
    "    \"IT\": ['Python', 'Machine Learning'],\n",
    "    \"Marketing\": ['Data Analysis'],\n",
    "    \"Project Management\": ['Agile Methodologies'],\n",
    "    \"Healthcare\": ['Patient Care', 'Medical Documentation'],\n",
    "}\n",
    "\n",
    "# Preprocess the resumes and extract matched skills\n",
    "tokenized_resumes = [preprocess_text(resume) for resume, _ in resumes]\n",
    "matched_skills = [extract_skills(tokenized_resumes, required_skills[label]) for _, label in resumes]\n",
    "\n",
    "# Prepare training data\n",
    "X = [' '.join(sentence) for tokenized_resume in tokenized_resumes for sentence in tokenized_resume]\n",
    "y = [label for _, label in resumes]\n",
    "\n",
    "# Split the data into training and testing sets\n",
    "X_train, X_test, y_train, y_test = train_test_split(X, y, test_size=0.2, random_state=42)\n",
    "\n",
    "# Define the pipeline (TF-IDF vectorizer and Support Vector Machine classifier)\n",
    "pipeline = Pipeline([\n",
    "    ('tfidf', TfidfVectorizer()),\n",
    "    ('clf', SVC(kernel='linear')),\n",
    "])\n",
    "\n",
    "# Train the model\n",
    "pipeline.fit(X_train, y_train)\n",
    "\n",
    "# Evaluate the model\n",
    "accuracy = pipeline.score(X_test, y_test)\n",
    "print(\"Model Accuracy:\", accuracy)\n",
    "\n",
    "# Predict job categories for new resumes\n",
    "new_resumes = [\n",
    "    \"Emily Wilson is a software developer with expertise in Java and web development.\",\n",
    "    \"Michael Thompson has a background in finance and financial analysis.\",\n",
    "]\n",
    "predicted_labels = pipeline.predict(new_resumes)\n",
    "\n",
    "print(\"Predicted Labels:\", predicted_labels)"
   ]
  },
  {
   "cell_type": "code",
   "execution_count": null,
   "id": "d0f68531",
   "metadata": {},
   "outputs": [],
   "source": []
  }
 ],
 "metadata": {
  "kernelspec": {
   "display_name": "Python 3",
   "language": "python",
   "name": "python3"
  },
  "language_info": {
   "codemirror_mode": {
    "name": "ipython",
    "version": 3
   },
   "file_extension": ".py",
   "mimetype": "text/x-python",
   "name": "python",
   "nbconvert_exporter": "python",
   "pygments_lexer": "ipython3",
   "version": "3.8.8"
  }
 },
 "nbformat": 4,
 "nbformat_minor": 5
}
